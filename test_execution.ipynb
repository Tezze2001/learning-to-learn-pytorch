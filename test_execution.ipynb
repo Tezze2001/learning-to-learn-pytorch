{
 "cells": [
  {
   "cell_type": "markdown",
   "metadata": {},
   "source": [
    "# Grid search learning rate for meta-optimizer of the LSTM optimizer"
   ]
  },
  {
   "cell_type": "code",
   "execution_count": null,
   "metadata": {},
   "outputs": [],
   "source": [
    "from impl.quadratic_problem import QuadraticLoss, QuadOptimizee\n",
    "from impl.mnist_problem import MNISTLoss, MNISTNet\n",
    "from impl.utils import grid_search_lr_meta_opt\n"
   ]
  },
  {
   "cell_type": "code",
   "execution_count": null,
   "metadata": {},
   "outputs": [],
   "source": [
    "\n",
    "\n",
    "grid_search_lr_meta_opt(\"./results/from_original_impl/grid_search_lr_meta_optimizer.csv\", \n",
    "QuadraticLoss, QuadOptimizee, lr_values = [1.0, 0.1, 0.01, 0.001, 0.0001], preproc=False)"
   ]
  },
  {
   "cell_type": "code",
   "execution_count": null,
   "metadata": {},
   "outputs": [],
   "source": [
    "\n",
    "grid_search_lr_meta_opt(\"./results/from_original_impl/grid_search_lr_meta_optimizer_mnist.csv\", \n",
    "MNISTLoss, MNISTNet, lr_values = [1.0, 0.1, 0.01, 0.001, 0.001, 0.0001], preproc=False)"
   ]
  }
 ],
 "metadata": {
  "kernelspec": {
   "display_name": "learning-to-learn-pytorch",
   "language": "python",
   "name": "python3"
  },
  "language_info": {
   "codemirror_mode": {
    "name": "ipython",
    "version": 3
   },
   "file_extension": ".py",
   "mimetype": "text/x-python",
   "name": "python",
   "nbconvert_exporter": "python",
   "pygments_lexer": "ipython3",
   "version": "3.12.8"
  }
 },
 "nbformat": 4,
 "nbformat_minor": 2
}
